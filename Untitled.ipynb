{
 "cells": [
  {
   "cell_type": "code",
   "execution_count": 1,
   "id": "a4258eea-c38d-43f1-9f77-e63634d42e7a",
   "metadata": {},
   "outputs": [
    {
     "name": "stderr",
     "output_type": "stream",
     "text": [
      "/Users/surajpatil/.pyenv/versions/3.7.9/envs/transformers-env3.7/lib/python3.7/site-packages/tqdm/auto.py:22: TqdmWarning: IProgress not found. Please update jupyter and ipywidgets. See https://ipywidgets.readthedocs.io/en/stable/user_install.html\n",
      "  from .autonotebook import tqdm as notebook_tqdm\n"
     ]
    }
   ],
   "source": [
    "from modeling_flax_swin_ir import *\n",
    "config = SwinIRConfig(\n",
    "    depths=[1,],\n",
    "    num_heads=[8],\n",
    ")\n",
    "model = SwinIR(config, _do_init=False)"
   ]
  },
  {
   "cell_type": "code",
   "execution_count": 2,
   "id": "cb6263e1-a5e3-402b-ad04-c73204b52516",
   "metadata": {},
   "outputs": [],
   "source": [
    "# key = jax.random.PRNGKey(0)\n",
    "# x = jax.random.normal(key, (1, 64, 64, 3))\n",
    "# print(model.module.tabulate(key, x))"
   ]
  },
  {
   "cell_type": "code",
   "execution_count": 3,
   "id": "895ac29d-0cda-4aa7-b4ad-4de667af7d2b",
   "metadata": {},
   "outputs": [
    {
     "name": "stderr",
     "output_type": "stream",
     "text": [
      "/Users/surajpatil/.pyenv/versions/3.7.9/envs/transformers-env3.7/lib/python3.7/site-packages/torch/functional.py:568: UserWarning: torch.meshgrid: in an upcoming release, it will be required to pass the indexing argument. (Triggered internally at  /Users/distiller/project/pytorch/aten/src/ATen/native/TensorShape.cpp:2228.)\n",
      "  return _VF.meshgrid(tensors, **kwargs)  # type: ignore[attr-defined]\n"
     ]
    }
   ],
   "source": [
    "from modeing_swin_ir import SwinIR as SwinIRPT\n",
    "pt_model = SwinIRPT(\n",
    "    upscale=2,\n",
    "    in_chans=3,\n",
    "    img_size=64,\n",
    "    window_size=8,\n",
    "    img_range=1.,\n",
    "    depths=[1],\n",
    "    embed_dim=240,\n",
    "    num_heads=[8],\n",
    "    mlp_ratio=2,\n",
    "    upsampler='nearest+conv',\n",
    "    resi_connection='3conv',\n",
    ").eval()"
   ]
  },
  {
   "cell_type": "code",
   "execution_count": 4,
   "id": "231e0ade-6c90-4354-b154-3194f7af8a86",
   "metadata": {},
   "outputs": [],
   "source": [
    "%load_ext autoreload\n",
    "%autoreload 2\n",
    "from convert_pt_to_jax import convert_params"
   ]
  },
  {
   "cell_type": "code",
   "execution_count": 5,
   "id": "d7ce3a00-6041-4753-b610-473ded663e23",
   "metadata": {},
   "outputs": [],
   "source": [
    "params = convert_params(pt_model, model)"
   ]
  },
  {
   "cell_type": "code",
   "execution_count": null,
   "id": "64ec977f-8e40-4f9f-8609-5eb616022232",
   "metadata": {},
   "outputs": [],
   "source": [
    "# pt_keys = list(pt_model.state_dict().keys())\n",
    "# pt_keys"
   ]
  },
  {
   "cell_type": "code",
   "execution_count": null,
   "id": "ea6129d9-fea1-4b6d-9069-1b00d379f840",
   "metadata": {},
   "outputs": [],
   "source": [
    "# from flax.traverse_util import flatten_dict, unflatten_dict\n",
    "# # fx_keys = list(flatten_dict(model.params_shape_tree).keys())\n",
    "# fx_keys = list(flatten_dict(params).keys())\n",
    "# fx_keys"
   ]
  },
  {
   "cell_type": "code",
   "execution_count": 22,
   "id": "4d28c58d-48af-4f5a-9dd2-9a970285ba81",
   "metadata": {},
   "outputs": [],
   "source": [
    "import torch\n",
    "x = torch.randn(1, 3, 64, 64)\n",
    "with torch.no_grad():\n",
    "    out = pt_model(x)\n",
    "\n",
    "x_j = jnp.asarray(x.permute(0, 2, 3, 1).numpy())\n",
    "out_j = model(x_j, params=params)"
   ]
  },
  {
   "cell_type": "code",
   "execution_count": 23,
   "id": "b261db63-ca3a-4d2d-9784-04884d324fd0",
   "metadata": {},
   "outputs": [
    {
     "data": {
      "text/plain": [
       "True"
      ]
     },
     "execution_count": 23,
     "metadata": {},
     "output_type": "execute_result"
    }
   ],
   "source": [
    "np.allclose(\n",
    "    out.permute(0, 2, 3, 1).numpy(),\n",
    "    out_j,\n",
    "    atol=1e-1\n",
    ")"
   ]
  },
  {
   "cell_type": "code",
   "execution_count": null,
   "id": "c18e0dfe-18b4-4b0c-a53c-27ebb5c95a6e",
   "metadata": {},
   "outputs": [],
   "source": []
  }
 ],
 "metadata": {
  "kernelspec": {
   "display_name": "Python 3 (ipykernel)",
   "language": "python",
   "name": "python3"
  },
  "language_info": {
   "codemirror_mode": {
    "name": "ipython",
    "version": 3
   },
   "file_extension": ".py",
   "mimetype": "text/x-python",
   "name": "python",
   "nbconvert_exporter": "python",
   "pygments_lexer": "ipython3",
   "version": "3.7.9"
  }
 },
 "nbformat": 4,
 "nbformat_minor": 5
}
